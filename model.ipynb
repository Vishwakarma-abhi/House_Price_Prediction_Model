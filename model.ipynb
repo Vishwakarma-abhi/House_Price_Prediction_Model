{
 "cells": [
  {
   "cell_type": "code",
   "execution_count": 30,
   "metadata": {},
   "outputs": [],
   "source": [
    "#import all the required libraries\n",
    "\n",
    "import numpy as np\n",
    "import pandas as pd\n"
   ]
  },
  {
   "cell_type": "code",
   "execution_count": 31,
   "metadata": {},
   "outputs": [
    {
     "name": "stdout",
     "output_type": "stream",
     "text": [
      "(13320, 9)\n"
     ]
    }
   ],
   "source": [
    "data = pd.read_csv(\"Bengaluru_House_Data.csv\")\n",
    "#print(data)\n",
    "#data.info()\n",
    "#data.describe()\n",
    "#print(data.head(10))\n",
    "#print(data.shape)\n",
    "print(data.shape)"
   ]
  },
  {
   "cell_type": "code",
   "execution_count": 32,
   "metadata": {},
   "outputs": [
    {
     "name": "stdout",
     "output_type": "stream",
     "text": [
      "area_type\n",
      "Built-up  Area          2418\n",
      "Carpet  Area              87\n",
      "Plot  Area              2025\n",
      "Super built-up  Area    8790\n",
      "Name: area_type, dtype: int64\n"
     ]
    }
   ],
   "source": [
    "#data preprocessing getting the count of area type in the datasets\n",
    "print(data.groupby('area_type')['area_type'].agg('count'))"
   ]
  },
  {
   "cell_type": "code",
   "execution_count": 33,
   "metadata": {},
   "outputs": [
    {
     "name": "stdout",
     "output_type": "stream",
     "text": [
      "(13320, 5)\n"
     ]
    }
   ],
   "source": [
    "#dropping unnecessary columns\n",
    "# eg. society, area_type,availability,balcony\n",
    "\n",
    "data.drop(['area_type','society','availability','balcony'],axis='columns',inplace=True)\n",
    "print(data.shape)"
   ]
  },
  {
   "cell_type": "code",
   "execution_count": 34,
   "metadata": {},
   "outputs": [
    {
     "name": "stdout",
     "output_type": "stream",
     "text": [
      "location       1\n",
      "size          16\n",
      "total_sqft     0\n",
      "bath          73\n",
      "price          0\n",
      "dtype: int64\n",
      "(13246, 5)\n"
     ]
    }
   ],
   "source": [
    "#Data Cleaning \n",
    "print(data.isnull().sum())\n",
    "data.dropna(inplace=True)\n",
    "print(data.shape)"
   ]
  },
  {
   "cell_type": "code",
   "execution_count": 37,
   "metadata": {},
   "outputs": [
    {
     "name": "stdout",
     "output_type": "stream",
     "text": [
      "['2 BHK' '4 Bedroom' '3 BHK' '4 BHK' '6 Bedroom' '3 Bedroom' '1 BHK'\n",
      " '1 RK' '1 Bedroom' '8 Bedroom' '2 Bedroom' '7 Bedroom' '5 BHK' '7 BHK'\n",
      " '6 BHK' '5 Bedroom' '11 BHK' '9 BHK' '9 Bedroom' '27 BHK' '10 Bedroom'\n",
      " '11 Bedroom' '10 BHK' '19 BHK' '16 BHK' '43 Bedroom' '14 BHK' '8 BHK'\n",
      " '12 Bedroom' '13 BHK' '18 Bedroom']\n"
     ]
    }
   ],
   "source": [
    "#Data Enginerring\n",
    "#print(data)\n",
    "#through this code We are adding one more column called and bhk \n",
    "#because size (house size) has different values so we will extract the numeric value from each\n",
    "print(data['size'].unique())\n",
    "data['bhk'] = data['size'].apply(lambda x: float(x.split(' ')[0]))"
   ]
  },
  {
   "cell_type": "code",
   "execution_count": 40,
   "metadata": {},
   "outputs": [
    {
     "name": "stdout",
     "output_type": "stream",
     "text": [
      "['1056' '2600' '1440' ... '1133 - 1384' '774' '4689']\n"
     ]
    }
   ],
   "source": [
    "#now exploring the total_sqft \n",
    "print(data['total_sqft'].unique())"
   ]
  },
  {
   "cell_type": "code",
   "execution_count": 41,
   "metadata": {},
   "outputs": [],
   "source": [
    "#defining a function to check whether the value is float or not\n",
    "def is_float(x):\n",
    "    try :\n",
    "        float(x)\n",
    "    except :\n",
    "        return False\n",
    "    return True"
   ]
  },
  {
   "cell_type": "code",
   "execution_count": 42,
   "metadata": {},
   "outputs": [
    {
     "name": "stdout",
     "output_type": "stream",
     "text": [
      "               location       size      total_sqft  bath    price  bhk\n",
      "30            Yelahanka      4 BHK     2100 - 2850   4.0  186.000  4.0\n",
      "122              Hebbal      4 BHK     3067 - 8156   4.0  477.000  4.0\n",
      "137  8th Phase JP Nagar      2 BHK     1042 - 1105   2.0   54.005  2.0\n",
      "165            Sarjapur      2 BHK     1145 - 1340   2.0   43.490  2.0\n",
      "188            KR Puram      2 BHK     1015 - 1540   2.0   56.800  2.0\n",
      "410             Kengeri      1 BHK  34.46Sq. Meter   1.0   18.500  1.0\n",
      "549         Hennur Road      2 BHK     1195 - 1440   2.0   63.770  2.0\n",
      "648             Arekere  9 Bedroom       4125Perch   9.0  265.000  9.0\n",
      "661           Yelahanka      2 BHK     1120 - 1145   2.0   48.130  2.0\n",
      "672        Bettahalsoor  4 Bedroom     3090 - 5002   4.0  445.000  4.0\n"
     ]
    }
   ],
   "source": [
    "print(data[~data['total_sqft'].apply(is_float)].head(10))"
   ]
  },
  {
   "cell_type": "code",
   "execution_count": 45,
   "metadata": {},
   "outputs": [
    {
     "name": "stdout",
     "output_type": "stream",
     "text": [
      "290.0\n",
      "2475.0\n",
      "None\n"
     ]
    }
   ],
   "source": [
    "#defining a function to convert the range column values to a single value\n",
    "def convert_sqft_to_num(x):\n",
    "    tokens = x.split('-')\n",
    "    if len(tokens) == 2 :\n",
    "        return (float(tokens[0])+ float(tokens[1]))/2\n",
    "    try:\n",
    "        return float(x)\n",
    "    except:\n",
    "        return None\n",
    "    \n",
    "#testing the function\n",
    "#above function testing with values\n",
    "print(convert_sqft_to_num('290'))\n",
    "print(convert_sqft_to_num('2100-2850'))\n",
    "print(convert_sqft_to_num('4.46Sq. Meter'))"
   ]
  },
  {
   "cell_type": "code",
   "execution_count": 46,
   "metadata": {},
   "outputs": [
    {
     "name": "stdout",
     "output_type": "stream",
     "text": [
      "0    1056.0\n",
      "1    2600.0\n",
      "2    1440.0\n",
      "3    1521.0\n",
      "4    1200.0\n",
      "5    1170.0\n",
      "6    2732.0\n",
      "7    3300.0\n",
      "8    1310.0\n",
      "9    1020.0\n",
      "Name: total_sqft, dtype: float64\n",
      "location      Yelahanka\n",
      "size              4 BHK\n",
      "total_sqft       2475.0\n",
      "bath                4.0\n",
      "price             186.0\n",
      "bhk                 4.0\n",
      "Name: 30, dtype: object\n"
     ]
    }
   ],
   "source": [
    "#apply  this function to the datasets to modify the total_sqt data column values\n",
    "\n",
    "data['total_sqft'] = data['total_sqft'].apply(convert_sqft_to_num)\n",
    "print(data['total_sqft'].head(10))\n",
    "print(data.loc[30])"
   ]
  },
  {
   "cell_type": "code",
   "execution_count": 47,
   "metadata": {},
   "outputs": [
    {
     "name": "stdout",
     "output_type": "stream",
     "text": [
      "                   location       size  total_sqft  bath   price  bhk\n",
      "0  Electronic City Phase II      2 BHK      1056.0   2.0   39.07  2.0\n",
      "1          Chikka Tirupathi  4 Bedroom      2600.0   5.0  120.00  4.0\n",
      "2               Uttarahalli      3 BHK      1440.0   2.0   62.00  3.0\n",
      "3        Lingadheeranahalli      3 BHK      1521.0   3.0   95.00  3.0\n",
      "4                  Kothanur      2 BHK      1200.0   2.0   51.00  2.0\n",
      "5                Whitefield      2 BHK      1170.0   2.0   38.00  2.0\n",
      "6          Old Airport Road      4 BHK      2732.0   4.0  204.00  4.0\n",
      "7              Rajaji Nagar      4 BHK      3300.0   4.0  600.00  4.0\n",
      "8              Marathahalli      3 BHK      1310.0   3.0   63.25  3.0\n",
      "9              Gandhi Bazar  6 Bedroom      1020.0   6.0  370.00  6.0\n"
     ]
    }
   ],
   "source": [
    "print(data.head(10))"
   ]
  },
  {
   "cell_type": "code",
   "execution_count": 50,
   "metadata": {},
   "outputs": [
    {
     "name": "stdout",
     "output_type": "stream",
     "text": [
      "0         3699.810606\n",
      "1         4615.384615\n",
      "2         4305.555556\n",
      "3         6245.890861\n",
      "4         4250.000000\n",
      "             ...     \n",
      "13315     6689.834926\n",
      "13316    11111.111111\n",
      "13317     5258.545136\n",
      "13318    10407.336319\n",
      "13319     3090.909091\n",
      "Name: price_per_sqft, Length: 13246, dtype: float64\n"
     ]
    }
   ],
   "source": [
    "#creating new column 'price_per_sqft' as we know in real state per sqft price matters a lot\n",
    "data['price_per_sqft'] = data['price']*100000/data['total_sqft']\n",
    "print(data['price_per_sqft'])"
   ]
  },
  {
   "cell_type": "code",
   "execution_count": 51,
   "metadata": {},
   "outputs": [
    {
     "name": "stdout",
     "output_type": "stream",
     "text": [
      "1304\n"
     ]
    }
   ],
   "source": [
    "#now lets explore the location column\n",
    "print(len(data['location'].unique()))"
   ]
  },
  {
   "cell_type": "code",
   "execution_count": 52,
   "metadata": {},
   "outputs": [],
   "source": [
    "data['location'] = data['location'].apply(lambda x: x.strip())"
   ]
  },
  {
   "cell_type": "code",
   "execution_count": 54,
   "metadata": {},
   "outputs": [
    {
     "name": "stdout",
     "output_type": "stream",
     "text": [
      "location\n",
      "Whitefield               535\n",
      "Sarjapur  Road           392\n",
      "Electronic City          304\n",
      "Kanakpura Road           266\n",
      "Thanisandra              236\n",
      "Yelahanka                210\n",
      "Uttarahalli              186\n",
      "Hebbal                   176\n",
      "Marathahalli             175\n",
      "Raja Rajeshwari Nagar    171\n",
      "Name: location, dtype: int64\n"
     ]
    }
   ],
   "source": [
    "location_stats = data.groupby('location')['location'].agg('count').sort_values(ascending=False)\n",
    "print(location_stats[0:10])"
   ]
  },
  {
   "cell_type": "code",
   "execution_count": null,
   "metadata": {},
   "outputs": [],
   "source": []
  }
 ],
 "metadata": {
  "kernelspec": {
   "display_name": "Python 3",
   "language": "python",
   "name": "python3"
  },
  "language_info": {
   "codemirror_mode": {
    "name": "ipython",
    "version": 3
   },
   "file_extension": ".py",
   "mimetype": "text/x-python",
   "name": "python",
   "nbconvert_exporter": "python",
   "pygments_lexer": "ipython3",
   "version": "3.10.11"
  },
  "orig_nbformat": 4
 },
 "nbformat": 4,
 "nbformat_minor": 2
}
